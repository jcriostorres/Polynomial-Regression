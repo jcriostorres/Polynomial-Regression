{
  "cells": [
    {
      "cell_type": "markdown",
      "metadata": {
        "id": "view-in-github",
        "colab_type": "text"
      },
      "source": [
        "<a href=\"https://colab.research.google.com/github/jcriostorres/Polynomial-Regression/blob/main/Regresion_Polinomial_2.ipynb\" target=\"_parent\"><img src=\"https://colab.research.google.com/assets/colab-badge.svg\" alt=\"Open In Colab\"/></a>"
      ]
    },
    {
      "cell_type": "markdown",
      "metadata": {
        "id": "wls_A4RsuXbw"
      },
      "source": [
        "## Ejercicio 2\n",
        "\n",
        "Analice los siguientes métodos a la luz de la teoría vista para los modelos de regresión polinomial múltiple. Una vez comprenda su funcionamiento, proceda a completar el código del método de gradiente descendente para el problema de regresión. En este método se le pide escribir el código de la regla de actualización de los parámetros del algorítmo de gradiente descedente:\n",
        "\n",
        "$$w_j(iter) = w_j(iter-1) - \\eta \\frac{\\partial E(w)}{\\partial w_j}$$\n",
        "\n",
        "y además se pide graficar el error cuadrático\n",
        "medio (ECM) vs. las iteraciones del algorítmo. La gráfica debe llevar título y los correspondientes nombres de los ejes."
      ]
    },
    {
      "cell_type": "code",
      "execution_count": null,
      "metadata": {
        "id": "HOcZ3kvjuXb1"
      },
      "outputs": [],
      "source": [
        "import numpy as np\n",
        "import matplotlib.pyplot as plt\n",
        "import math\n",
        "from __future__ import division"
      ]
    },
    {
      "cell_type": "code",
      "execution_count": null,
      "metadata": {
        "id": "k8hwzz0CuXb2"
      },
      "outputs": [],
      "source": [
        "#Error cuadrático medio (criterio para el modelo de regresión polinomial)\n",
        "def ECM(Y_est,Y):\n",
        "    N = np.size(Y)\n",
        "    ecm = sum((Y_est - Y)**2)/(2*N)\n",
        "    return ecm"
      ]
    },
    {
      "cell_type": "code",
      "execution_count": null,
      "metadata": {
        "id": "MNDQK-x_uXb3"
      },
      "outputs": [],
      "source": [
        "#Modelo Regresión Múltiple\n",
        "def regression(X, W):\n",
        "    Yest = np.dot(X,W)    #con np.dot se realiza el producto matricial. Aquí X es dim [Nxd] y W es dim [dx1]\n",
        "    return Yest           #La variable Yest contiene la salida de f(X,W)"
      ]
    },
    {
      "cell_type": "code",
      "execution_count": null,
      "metadata": {
        "id": "U3HQEjYxuXb3"
      },
      "outputs": [],
      "source": [
        "#Potencia de polinomio\n",
        "def potenciaPolinomio(X,grado):\n",
        "    \"\"\"\n",
        "    Este método permite aumentar la matriz (base de datos de entrenamiento)\n",
        "    de tal manera que se incluyan los términos con potencia mayores que 1\n",
        "    de acuerdo al parámetro grado (M) que pase el usuario.\n",
        "    \"\"\"\n",
        "    X2 = X\n",
        "\n",
        "    if grado != 1:\n",
        "        for i in range(2,grado+1):\n",
        "            Xadd = X**i\n",
        "            X2 = np.concatenate((X2, Xadd), axis=1)\n",
        "\n",
        "    return X2"
      ]
    },
    {
      "cell_type": "code",
      "execution_count": null,
      "metadata": {
        "id": "OI6olEXguXb3"
      },
      "outputs": [],
      "source": [
        "#Gradiente descendente para regresión polinomial\n",
        "def gradiente_descendente(X, Y, grado, eta, iterations):\n",
        "    \"\"\"\n",
        "    params:\n",
        "    X: base de datos de entrenamiento (array de numpy)\n",
        "    Y: variable de salida (array de numpy)\n",
        "    grado: grado del polinomio (Natural mayor o igual a 1)\n",
        "    eta: tasa de aprendizaje para el algoritmo de gradiente descendente\n",
        "    (real mayor que cero. Ej: 0.001)\n",
        "    iterations: número de iteraciones del algoritmo de gradiente descendente\n",
        "    \"\"\"\n",
        "    # Se modifica la matriz de datos original de acuerdo al grado del polinomio ingresado para el modelo\n",
        "    X = potenciaPolinomio(X, grado)\n",
        "\n",
        "    # X es la matriz de datos extendida. W es el vector de parámetros del modelo\n",
        "    # Extendemos la matriz\n",
        "    unos = np.array([np.ones(np.size(X, 0))])\n",
        "    # Concatenamos el vector de unos con la matriz X\n",
        "    X = np.concatenate((unos.T, X), axis=1)\n",
        "    X = X.reshape(np.size(X, 0), np.size(X, 1))\n",
        "\n",
        "    Y = Y.reshape(np.size(Y), 1)\n",
        "\n",
        "    # Tomamos el número de variables del problema\n",
        "    d = np.size(X, 1)\n",
        "\n",
        "    # Tomamos el número de muestras de la base de datos\n",
        "    N = np.size(X, 0)\n",
        "\n",
        "    # Inicializamos el vector de parámetros aleatoriamente\n",
        "    W = np.zeros(d)\n",
        "    W = W.reshape(np.size(W), 1)\n",
        "\n",
        "    eta = eta\n",
        "\n",
        "    iteraciones = iterations\n",
        "    ecms = np.zeros(iteraciones)\n",
        "\n",
        "    for iter in range(iteraciones):\n",
        "        error = ECM(regression(X, W), Y)\n",
        "        ecms[iter] = error\n",
        "\n",
        "        # Calculamos el gradiente de la función de error con respecto a W\n",
        "        gradiente = np.dot(X.T, (regression(X, W) - Y)) / N\n",
        "\n",
        "        # Actualizamos los parámetros del modelo\n",
        "        W = W - eta * gradiente\n",
        "\n",
        "    print('Vector de parámetros del modelo:\\n')\n",
        "    print(W)\n",
        "    print('Longitud de W', len(W))\n",
        "    error_final = str(np.min(ecms))\n",
        "    print('\\nError Final = ' + str(np.min(ecms)))\n",
        "\n",
        "    # Graficar ECM vs. iteraciones\n",
        "    plt.plot(range(iteraciones), ecms)\n",
        "    plt.title('Error Cuadrático Medio vs. Iteraciones')\n",
        "    plt.xlabel('Iteraciones')\n",
        "    plt.ylabel('Error Cuadrático Medio')\n",
        "    plt.grid(True)\n",
        "    plt.show()\n",
        "\n",
        "    return error_final"
      ]
    },
    {
      "cell_type": "markdown",
      "metadata": {
        "id": "TVpAFeijuXb4"
      },
      "source": [
        "## Ejercicio 3\n",
        "\n",
        "A continuación, se leen los datos de un problema de regresión que consiste en predecir el valor de la variable denominada total_UPDRS. Este conjunto de datos está compuesto por un conjunto de variable que consisten en medidas de la voz, tomadas a 42 personas con enfermedad de parkinson en etapa temprana. A partir de la predicción de la variable total_UPDRS se pueden tomar decisiones que pueden ayudar a afrontar este problema de salud. Para mayor información sobre le dataset y el problema, lea el archivo Documentación_Base_de_Datos o vaya a: https://archive.ics.uci.edu/ml/datasets/Parkinsons+Telemonitoring"
      ]
    },
    {
      "cell_type": "code",
      "execution_count": null,
      "metadata": {
        "id": "tOOQVrbWuXb5",
        "outputId": "6ec106bf-3642-4f19-c74d-1be0d706a248"
      },
      "outputs": [
        {
          "name": "stderr",
          "output_type": "stream",
          "text": [
            "C:\\Users\\kta_r\\AppData\\Local\\Temp\\ipykernel_14324\\3504634490.py:1: DeprecationWarning: \n",
            "Pyarrow will become a required dependency of pandas in the next major release of pandas (pandas 3.0),\n",
            "(to allow more performant data types, such as the Arrow string type, and better interoperability with other libraries)\n",
            "but was not found to be installed on your system.\n",
            "If this would cause problems for you,\n",
            "please provide us feedback at https://github.com/pandas-dev/pandas/issues/54466\n",
            "        \n",
            "  import pandas as pd\n"
          ]
        },
        {
          "data": {
            "text/html": [
              "<div>\n",
              "<style scoped>\n",
              "    .dataframe tbody tr th:only-of-type {\n",
              "        vertical-align: middle;\n",
              "    }\n",
              "\n",
              "    .dataframe tbody tr th {\n",
              "        vertical-align: top;\n",
              "    }\n",
              "\n",
              "    .dataframe thead th {\n",
              "        text-align: right;\n",
              "    }\n",
              "</style>\n",
              "<table border=\"1\" class=\"dataframe\">\n",
              "  <thead>\n",
              "    <tr style=\"text-align: right;\">\n",
              "      <th></th>\n",
              "      <th>subject#</th>\n",
              "      <th>age</th>\n",
              "      <th>sex</th>\n",
              "      <th>test_time</th>\n",
              "      <th>Jitter(%)</th>\n",
              "      <th>Jitter(Abs)</th>\n",
              "      <th>Jitter:RAP</th>\n",
              "      <th>Jitter:PPQ5</th>\n",
              "      <th>Jitter:DDP</th>\n",
              "      <th>Shimmer</th>\n",
              "      <th>...</th>\n",
              "      <th>Shimmer:APQ3</th>\n",
              "      <th>Shimmer:APQ5</th>\n",
              "      <th>Shimmer:APQ11</th>\n",
              "      <th>Shimmer:DDA</th>\n",
              "      <th>NHR</th>\n",
              "      <th>HNR</th>\n",
              "      <th>RPDE</th>\n",
              "      <th>DFA</th>\n",
              "      <th>PPE</th>\n",
              "      <th>total_UPDRS</th>\n",
              "    </tr>\n",
              "  </thead>\n",
              "  <tbody>\n",
              "    <tr>\n",
              "      <th>0</th>\n",
              "      <td>1</td>\n",
              "      <td>72</td>\n",
              "      <td>0</td>\n",
              "      <td>5.6431</td>\n",
              "      <td>0.00662</td>\n",
              "      <td>0.000034</td>\n",
              "      <td>0.00401</td>\n",
              "      <td>0.00317</td>\n",
              "      <td>0.01204</td>\n",
              "      <td>0.02565</td>\n",
              "      <td>...</td>\n",
              "      <td>0.01438</td>\n",
              "      <td>0.01309</td>\n",
              "      <td>0.01662</td>\n",
              "      <td>0.04314</td>\n",
              "      <td>0.014290</td>\n",
              "      <td>21.640</td>\n",
              "      <td>0.41888</td>\n",
              "      <td>0.54842</td>\n",
              "      <td>0.16006</td>\n",
              "      <td>34.398</td>\n",
              "    </tr>\n",
              "    <tr>\n",
              "      <th>1</th>\n",
              "      <td>1</td>\n",
              "      <td>72</td>\n",
              "      <td>0</td>\n",
              "      <td>12.6660</td>\n",
              "      <td>0.00300</td>\n",
              "      <td>0.000017</td>\n",
              "      <td>0.00132</td>\n",
              "      <td>0.00150</td>\n",
              "      <td>0.00395</td>\n",
              "      <td>0.02024</td>\n",
              "      <td>...</td>\n",
              "      <td>0.00994</td>\n",
              "      <td>0.01072</td>\n",
              "      <td>0.01689</td>\n",
              "      <td>0.02982</td>\n",
              "      <td>0.011112</td>\n",
              "      <td>27.183</td>\n",
              "      <td>0.43493</td>\n",
              "      <td>0.56477</td>\n",
              "      <td>0.10810</td>\n",
              "      <td>34.894</td>\n",
              "    </tr>\n",
              "    <tr>\n",
              "      <th>2</th>\n",
              "      <td>1</td>\n",
              "      <td>72</td>\n",
              "      <td>0</td>\n",
              "      <td>19.6810</td>\n",
              "      <td>0.00481</td>\n",
              "      <td>0.000025</td>\n",
              "      <td>0.00205</td>\n",
              "      <td>0.00208</td>\n",
              "      <td>0.00616</td>\n",
              "      <td>0.01675</td>\n",
              "      <td>...</td>\n",
              "      <td>0.00734</td>\n",
              "      <td>0.00844</td>\n",
              "      <td>0.01458</td>\n",
              "      <td>0.02202</td>\n",
              "      <td>0.020220</td>\n",
              "      <td>23.047</td>\n",
              "      <td>0.46222</td>\n",
              "      <td>0.54405</td>\n",
              "      <td>0.21014</td>\n",
              "      <td>35.389</td>\n",
              "    </tr>\n",
              "    <tr>\n",
              "      <th>3</th>\n",
              "      <td>1</td>\n",
              "      <td>72</td>\n",
              "      <td>0</td>\n",
              "      <td>25.6470</td>\n",
              "      <td>0.00528</td>\n",
              "      <td>0.000027</td>\n",
              "      <td>0.00191</td>\n",
              "      <td>0.00264</td>\n",
              "      <td>0.00573</td>\n",
              "      <td>0.02309</td>\n",
              "      <td>...</td>\n",
              "      <td>0.01106</td>\n",
              "      <td>0.01265</td>\n",
              "      <td>0.01963</td>\n",
              "      <td>0.03317</td>\n",
              "      <td>0.027837</td>\n",
              "      <td>24.445</td>\n",
              "      <td>0.48730</td>\n",
              "      <td>0.57794</td>\n",
              "      <td>0.33277</td>\n",
              "      <td>35.810</td>\n",
              "    </tr>\n",
              "    <tr>\n",
              "      <th>4</th>\n",
              "      <td>1</td>\n",
              "      <td>72</td>\n",
              "      <td>0</td>\n",
              "      <td>33.6420</td>\n",
              "      <td>0.00335</td>\n",
              "      <td>0.000020</td>\n",
              "      <td>0.00093</td>\n",
              "      <td>0.00130</td>\n",
              "      <td>0.00278</td>\n",
              "      <td>0.01703</td>\n",
              "      <td>...</td>\n",
              "      <td>0.00679</td>\n",
              "      <td>0.00929</td>\n",
              "      <td>0.01819</td>\n",
              "      <td>0.02036</td>\n",
              "      <td>0.011625</td>\n",
              "      <td>26.126</td>\n",
              "      <td>0.47188</td>\n",
              "      <td>0.56122</td>\n",
              "      <td>0.19361</td>\n",
              "      <td>36.375</td>\n",
              "    </tr>\n",
              "  </tbody>\n",
              "</table>\n",
              "<p>5 rows × 21 columns</p>\n",
              "</div>"
            ],
            "text/plain": [
              "   subject#  age  sex  test_time  Jitter(%)  Jitter(Abs)  Jitter:RAP  \\\n",
              "0         1   72    0     5.6431    0.00662     0.000034     0.00401   \n",
              "1         1   72    0    12.6660    0.00300     0.000017     0.00132   \n",
              "2         1   72    0    19.6810    0.00481     0.000025     0.00205   \n",
              "3         1   72    0    25.6470    0.00528     0.000027     0.00191   \n",
              "4         1   72    0    33.6420    0.00335     0.000020     0.00093   \n",
              "\n",
              "   Jitter:PPQ5  Jitter:DDP  Shimmer  ...  Shimmer:APQ3  Shimmer:APQ5  \\\n",
              "0      0.00317     0.01204  0.02565  ...       0.01438       0.01309   \n",
              "1      0.00150     0.00395  0.02024  ...       0.00994       0.01072   \n",
              "2      0.00208     0.00616  0.01675  ...       0.00734       0.00844   \n",
              "3      0.00264     0.00573  0.02309  ...       0.01106       0.01265   \n",
              "4      0.00130     0.00278  0.01703  ...       0.00679       0.00929   \n",
              "\n",
              "   Shimmer:APQ11  Shimmer:DDA       NHR     HNR     RPDE      DFA      PPE  \\\n",
              "0        0.01662      0.04314  0.014290  21.640  0.41888  0.54842  0.16006   \n",
              "1        0.01689      0.02982  0.011112  27.183  0.43493  0.56477  0.10810   \n",
              "2        0.01458      0.02202  0.020220  23.047  0.46222  0.54405  0.21014   \n",
              "3        0.01963      0.03317  0.027837  24.445  0.48730  0.57794  0.33277   \n",
              "4        0.01819      0.02036  0.011625  26.126  0.47188  0.56122  0.19361   \n",
              "\n",
              "   total_UPDRS  \n",
              "0       34.398  \n",
              "1       34.894  \n",
              "2       35.389  \n",
              "3       35.810  \n",
              "4       36.375  \n",
              "\n",
              "[5 rows x 21 columns]"
            ]
          },
          "execution_count": 7,
          "metadata": {},
          "output_type": "execute_result"
        }
      ],
      "source": [
        "import pandas as pd\n",
        "\n",
        "#cargamos la bd que está en un archivo txt y ahora la podemos manejar de forma matricial\n",
        "db = pd.read_table('DB_Parkinson.txt', delimiter='\\t')  # Assuming tab-delimiter\n",
        "db.head()"
      ]
    },
    {
      "cell_type": "markdown",
      "metadata": {
        "id": "BTRfrJkRuXb6"
      },
      "source": [
        "A continuación las variables o caracterísicas son guardadas en la variable $X$ que posteriormente es estandarizada y la variable de salida o variable a predecir es guardada en la variable Y. Complete el código llamando a la función gradiente_descendente y pasándole los parámetros correspondientes. Debe obtener como salída el vector de parámetros W estimado y la gráfica del error cuadrático medio vs iteraciones."
      ]
    },
    {
      "cell_type": "code",
      "execution_count": null,
      "metadata": {
        "id": "9-bMWEXyuXb6"
      },
      "outputs": [],
      "source": [
        "from sklearn.preprocessing import MinMaxScaler\n",
        "\n",
        "X = db.iloc[:,0:20].to_numpy()\n",
        "Y = db.iloc[:,20].to_numpy()\n",
        "\n",
        "#Estandarización de los datos\n",
        "#La importancia de esto la veremos más adelante en el curso\n",
        "scaler = MinMaxScaler()\n",
        "scaler.fit(X)\n",
        "X = scaler.transform(X)\n",
        "\n",
        "#Partimos la base de datos en dos partes, una para entrenar y otra para validar.\n",
        "#Esto lo veremos con mayor detalle más adelante en el curso.\n",
        "X_train = X[0:4876,0:20]\n",
        "Y_train = Y[0:4876]\n",
        "\n",
        "X_test = X[4876:,0:20]\n",
        "Y_test = Y[4876:]\n",
        "\n"
      ]
    },
    {
      "cell_type": "code",
      "execution_count": null,
      "metadata": {
        "id": "CWMKlzYwuXb6",
        "outputId": "72b297b5-7e57-441e-82cc-6cd80840efdc"
      },
      "outputs": [
        {
          "name": "stdout",
          "output_type": "stream",
          "text": [
            "(999, 20) (999,)\n",
            "(4876, 20) (4876,)\n"
          ]
        }
      ],
      "source": [
        "print(X_test.shape, Y_test.shape)\n",
        "print(X_train.shape, Y_train.shape)"
      ]
    },
    {
      "cell_type": "code",
      "execution_count": null,
      "metadata": {
        "id": "7MVty064uXb6",
        "outputId": "d8d374b5-28a6-4213-8ec9-390ad0511d80"
      },
      "outputs": [
        {
          "name": "stdout",
          "output_type": "stream",
          "text": [
            "(999, 20) (999,)\n",
            "(4876, 20) (4876,)\n"
          ]
        }
      ],
      "source": [
        "print(X_test.shape, Y_test.shape)\n",
        "print(X_train.shape, Y_train.shape)"
      ]
    },
    {
      "cell_type": "code",
      "execution_count": null,
      "metadata": {
        "id": "thPmLBhYuXb7",
        "outputId": "e4e69f57-0375-4ea2-de5d-1fe0b5bcd6c6"
      },
      "outputs": [
        {
          "name": "stderr",
          "output_type": "stream",
          "text": [
            "C:\\Users\\kta_r\\AppData\\Local\\Temp\\ipykernel_14324\\900760799.py:41: DeprecationWarning: Conversion of an array with ndim > 0 to a scalar is deprecated, and will error in future. Ensure you extract a single element from your array before performing this operation. (Deprecated NumPy 1.25.)\n",
            "  ecms[iter] = error\n"
          ]
        },
        {
          "name": "stdout",
          "output_type": "stream",
          "text": [
            "Vector de parámetros del modelo:\n",
            "\n",
            "[[9.78258791]\n",
            " [4.16318716]\n",
            " [6.35345298]\n",
            " [1.43738814]\n",
            " [4.34327798]\n",
            " [0.49004473]\n",
            " [0.90813374]\n",
            " [0.41611938]\n",
            " [0.36639317]\n",
            " [0.41665233]\n",
            " [1.11795799]\n",
            " [1.31934854]\n",
            " [0.92795288]\n",
            " [1.05891038]\n",
            " [0.90981491]\n",
            " [0.92774916]\n",
            " [0.32413097]\n",
            " [5.33572318]\n",
            " [4.79043373]\n",
            " [3.68846954]\n",
            " [2.80085367]]\n",
            "Longitud de W 21\n",
            "\n",
            "Error Final = 58.21774999420576\n"
          ]
        },
        {
          "data": {
            "image/png": "[encoded data removed]",
            "text/plain": [
              "<Figure size 640x480 with 1 Axes>"
            ]
          },
          "metadata": {},
          "output_type": "display_data"
        }
      ],
      "source": [
        "eta = 0.001\n",
        "grado = 1\n",
        "\n",
        "\n",
        "#Complete la siguiente línea de código llamando el método gradiente_descendente\n",
        "#con sus respectivos argumentos. Use solo las muestras marcadas para entrenamiento\n",
        "#(X_train, Y_train). Use 1000 iteraciones para el laboratorio\n",
        "\n",
        "Want = gradiente_descendente(X_train, Y_train, grado, eta, 1000)"
      ]
    },
    {
      "cell_type": "markdown",
      "metadata": {
        "id": "7VOPAJFsuXb7"
      },
      "source": [
        "3.1 Cuántas muestras tiene la base de datos?"
      ]
    },
    {
      "cell_type": "code",
      "execution_count": null,
      "metadata": {
        "id": "CmnJ2--TuXb7",
        "outputId": "77378158-f415-4ff1-a65d-c6615a6104e1"
      },
      "outputs": [
        {
          "name": "stdout",
          "output_type": "stream",
          "text": [
            "Número de muestras en la base de datos: 5875\n"
          ]
        }
      ],
      "source": [
        "# Respuestas a las preguntas:\n",
        "# 3.1\n",
        "num_muestras = len(db)\n",
        "print(\"Número de muestras en la base de datos:\", num_muestras)\n"
      ]
    },
    {
      "cell_type": "markdown",
      "metadata": {
        "id": "xkZfHwYNuXb7"
      },
      "source": [
        "3.2 Cuántas caracteristicas tiene el problema?"
      ]
    },
    {
      "cell_type": "code",
      "execution_count": null,
      "metadata": {
        "id": "-t2NTEkouXb7",
        "outputId": "0f3b25d9-43b7-437e-f451-e178847ea387"
      },
      "outputs": [
        {
          "name": "stdout",
          "output_type": "stream",
          "text": [
            "Número de características en el problema: 20\n"
          ]
        }
      ],
      "source": [
        "# 3.2\n",
        "num_caracteristicas = X.shape[1]\n",
        "print(\"Número de características en el problema:\", num_caracteristicas)"
      ]
    },
    {
      "cell_type": "markdown",
      "metadata": {
        "id": "1DzmzrMbuXb7"
      },
      "source": [
        "3.3 Cuál es el número de coeficientes w que se obtienen al ingresar un polinomio de grado 4? por qué?"
      ]
    },
    {
      "cell_type": "code",
      "execution_count": null,
      "metadata": {
        "id": "_mR8bbV0uXb8",
        "outputId": "6756c80a-b600-45a6-f0f9-26e3d2d0ece3"
      },
      "outputs": [
        {
          "name": "stdout",
          "output_type": "stream",
          "text": [
            "Número de coeficientes w para un polinomio de grado 4: 81\n"
          ]
        }
      ],
      "source": [
        "# 3.3\n",
        "grado = 4\n",
        "num_coeficientes = (grado * num_caracteristicas)+1\n",
        "\n",
        "print(\"Número de coeficientes w para un polinomio de grado 4:\", num_coeficientes)\n",
        "# La razón por la que se calcula así es que para un polinomio de grado n, necesitamos considerar\n",
        "# todas las combinaciones posibles de características hasta el grado n, y tener en cuenta el termino independiente que corresponde a W0"
      ]
    },
    {
      "cell_type": "code",
      "execution_count": null,
      "metadata": {
        "id": "GgBQmQNTuXb8",
        "outputId": "73319624-eede-4dfd-f2e7-8d2a5ca552f3"
      },
      "outputs": [
        {
          "name": "stderr",
          "output_type": "stream",
          "text": [
            "C:\\Users\\kta_r\\AppData\\Local\\Temp\\ipykernel_14324\\900760799.py:41: DeprecationWarning: Conversion of an array with ndim > 0 to a scalar is deprecated, and will error in future. Ensure you extract a single element from your array before performing this operation. (Deprecated NumPy 1.25.)\n",
            "  ecms[iter] = error\n"
          ]
        },
        {
          "name": "stdout",
          "output_type": "stream",
          "text": [
            "Vector de parámetros del modelo:\n",
            "\n",
            "[[7.74279628e+00]\n",
            " [3.16386315e+00]\n",
            " [5.05661989e+00]\n",
            " [5.52153401e-01]\n",
            " [3.32331111e+00]\n",
            " [3.87676226e-01]\n",
            " [7.34197790e-01]\n",
            " [3.28353754e-01]\n",
            " [2.88864389e-01]\n",
            " [3.28775986e-01]\n",
            " [8.92589970e-01]\n",
            " [1.05387980e+00]\n",
            " [7.43139070e-01]\n",
            " [8.46673510e-01]\n",
            " [7.26562015e-01]\n",
            " [7.42978140e-01]\n",
            " [2.54600901e-01]\n",
            " [4.18482454e+00]\n",
            " [3.83289172e+00]\n",
            " [2.84015670e+00]\n",
            " [2.24578110e+00]\n",
            " [2.03217038e+00]\n",
            " [3.49929096e+00]\n",
            " [5.52153401e-01]\n",
            " [1.87518088e+00]\n",
            " [3.29396097e-02]\n",
            " [1.00588010e-01]\n",
            " [2.80168948e-02]\n",
            " [2.19838371e-02]\n",
            " [2.80498985e-02]\n",
            " [1.38341191e-01]\n",
            " [1.91227154e-01]\n",
            " [9.93365265e-02]\n",
            " [1.29100837e-01]\n",
            " [9.37558033e-02]\n",
            " [9.93053663e-02]\n",
            " [1.70896163e-02]\n",
            " [2.31245938e+00]\n",
            " [1.99071341e+00]\n",
            " [1.33378865e+00]\n",
            " [7.40926518e-01]\n",
            " [1.45095259e+00]\n",
            " [2.52984717e+00]\n",
            " [5.52153401e-01]\n",
            " [1.20470118e+00]\n",
            " [8.99769254e-03]\n",
            " [2.22244286e-02]\n",
            " [9.24995238e-03]\n",
            " [8.23178907e-03]\n",
            " [9.25220336e-03]\n",
            " [2.88554130e-02]\n",
            " [4.63403595e-02]\n",
            " [1.72434281e-02]\n",
            " [2.73536954e-02]\n",
            " [1.89662161e-02]\n",
            " [1.72370925e-02]\n",
            " [3.13059029e-03]\n",
            " [1.30219113e+00]\n",
            " [1.07855639e+00]\n",
            " [7.17027693e-01]\n",
            " [2.76510634e-01]\n",
            " [1.07876669e+00]\n",
            " [1.87795119e+00]\n",
            " [5.52153401e-01]\n",
            " [8.32725975e-01]\n",
            " [6.06814957e-03]\n",
            " [8.37725093e-03]\n",
            " [6.95647963e-03]\n",
            " [6.72067317e-03]\n",
            " [6.95600634e-03]\n",
            " [8.31373376e-03]\n",
            " [1.53493088e-02]\n",
            " [3.50986874e-03]\n",
            " [8.39517614e-03]\n",
            " [7.51832126e-03]\n",
            " [3.50830569e-03]\n",
            " [1.14811898e-03]\n",
            " [7.45383454e-01]\n",
            " [6.05996638e-01]\n",
            " [4.17328628e-01]\n",
            " [1.17212680e-01]]\n",
            "Longitud de W 81\n",
            "\n",
            "Error Final = 54.082913008421116\n"
          ]
        },
        {
          "data": {
            "image/png": "[encoded data removed]",
            "text/plain": [
              "<Figure size 640x480 with 1 Axes>"
            ]
          },
          "metadata": {},
          "output_type": "display_data"
        }
      ],
      "source": [
        "# A continuación mostramos la longitud del vector w que se genera en el metodo gradiente_descendete\n",
        "W = gradiente_descendente(X_train,Y_train,4,eta,1000)"
      ]
    },
    {
      "cell_type": "markdown",
      "metadata": {
        "id": "fHLjYh6GuXb8"
      },
      "source": [
        "3.4 Cuántas muestras se usarán para entrenar y cuántas para validar el modelo?"
      ]
    },
    {
      "cell_type": "code",
      "execution_count": null,
      "metadata": {
        "id": "Q5vcJkufuXb8",
        "outputId": "16ebd978-1bbe-4ac3-a36a-00eba43a0e0d"
      },
      "outputs": [
        {
          "name": "stdout",
          "output_type": "stream",
          "text": [
            "Número de muestras para entrenamiento: 4876\n",
            "Número de muestras para validación: 999\n"
          ]
        }
      ],
      "source": [
        "# 3.4\n",
        "num_muestras_entrenamiento = len(X_train)\n",
        "num_muestras_validacion = len(X_test)\n",
        "print(\"Número de muestras para entrenamiento:\", num_muestras_entrenamiento)\n",
        "print(\"Número de muestras para validación:\", num_muestras_validacion)"
      ]
    },
    {
      "cell_type": "markdown",
      "metadata": {
        "id": "8DBFVso6uXb8"
      },
      "source": [
        "## Ejercicio 4\n",
        "\n",
        "Identifique la variable \"grado\" (M según el modelo visto en clase) en el código anterior, cambie su valor de acuerdo a la siguiente tabla y complete la columna ECM.\n",
        "\n",
        "<table>\n",
        "  <tr>\n",
        "    <th>Tasa de aprendizaje</th>\n",
        "    <th>Grado del polinomio</th>\n",
        "    <th>Error Cuadrático Medio (ECM)</th>\n",
        "  </tr>\n",
        "    \n",
        " <tr>\n",
        "    <td>0.001</td>\n",
        "    <td>1</td>\n",
        "    <td>58.21774</td>\n",
        "  </tr>\n",
        "  <tr>\n",
        "    <td>0.001</td>\n",
        "    <td>2</td>\n",
        "    <td>55.69581</td>\n",
        "  </tr>\n",
        "  <tr>\n",
        "    <td>0.001</td>\n",
        "    <td>3</td>\n",
        "    <td>54.66678</td>\n",
        "  </tr>\n",
        "  <tr>\n",
        "    <td>0.001</td>\n",
        "    <td>4</td>\n",
        "    <td>54.08291</td>\n",
        "  </tr>\n",
        "  <tr>\n",
        "    <td>0.001</td>\n",
        "    <td>5</td>\n",
        "    <td>53.69796</td>\n",
        "  </tr>\n",
        "  \n",
        "  <tr>\n",
        "    <td>0.001</td>\n",
        "    <td>6</td>\n",
        "    <td>53.40897</td>\n",
        "  </tr>\n",
        "  <tr>\n",
        "    <td>0.001</td>\n",
        "    <td>7</td>\n",
        "    <td>53.169056</td>\n",
        "  </tr>\n",
        "  <tr>\n",
        "    <td>0.001</td>\n",
        "    <td>8</td>\n",
        "    <td>52.9569814</td>\n",
        "  </tr>\n",
        "  <tr>\n",
        "    <td>0.001</td>\n",
        "    <td>9</td>\n",
        "    <td>52.7635088</td>\n",
        "  </tr>\n",
        "  <tr>\n",
        "    <td>0.001</td>\n",
        "    <td>10</td>\n",
        "    <td>52.584815</td>\n",
        "  </tr>\n",
        "</table>\n",
        "\n",
        "\n",
        "\n",
        "Tenga en cuenta que cuando el valor de $\\eta$ sea $0.001$ y el grado del polinomio sea $5$, el valor del ECM debe ser $53.69796$. Esto le servirá de criterio de verificación para la implementación de su algorítmo de gradiente descendente.\n"
      ]
    },
    {
      "cell_type": "markdown",
      "metadata": {
        "id": "NQAnwkuouXb8"
      },
      "source": [
        "## Ejericio 5\n",
        "\n",
        "Con el mejor modelo entrenado (menor ECM), haga la predicción para todos las muestras X_test y calcule el ECM teniendo en cuenta los valores teóricos de salida Y_test."
      ]
    },
    {
      "cell_type": "code",
      "execution_count": null,
      "metadata": {
        "id": "xtAwIGTFuXb8",
        "outputId": "8ee2bbb0-18d1-48ec-ce7a-88448f52ac4f"
      },
      "outputs": [
        {
          "name": "stderr",
          "output_type": "stream",
          "text": [
            "C:\\Users\\kta_r\\AppData\\Local\\Temp\\ipykernel_14324\\900760799.py:41: DeprecationWarning: Conversion of an array with ndim > 0 to a scalar is deprecated, and will error in future. Ensure you extract a single element from your array before performing this operation. (Deprecated NumPy 1.25.)\n",
            "  ecms[iter] = error\n"
          ]
        },
        {
          "name": "stdout",
          "output_type": "stream",
          "text": [
            "Vector de parámetros del modelo:\n",
            "\n",
            "[[ 7.50555367e+00]\n",
            " [ 3.00387239e+00]\n",
            " [ 4.90007523e+00]\n",
            " [ 1.57511663e-01]\n",
            " [ 3.20094891e+00]\n",
            " [ 3.77975601e-01]\n",
            " [ 7.29302647e-01]\n",
            " [ 3.19043152e-01]\n",
            " [ 2.80910802e-01]\n",
            " [ 3.19452615e-01]\n",
            " [ 8.69940863e-01]\n",
            " [ 1.02725228e+00]\n",
            " [ 7.24739431e-01]\n",
            " [ 8.25563477e-01]\n",
            " [ 7.09135818e-01]\n",
            " [ 7.24583504e-01]\n",
            " [ 2.45353824e-01]\n",
            " [ 4.03954277e+00]\n",
            " [ 3.74534501e+00]\n",
            " [ 2.77200351e+00]\n",
            " [ 2.20006611e+00]\n",
            " [ 1.92676056e+00]\n",
            " [ 3.38187972e+00]\n",
            " [ 1.57511663e-01]\n",
            " [ 1.79332459e+00]\n",
            " [ 3.12022431e-02]\n",
            " [ 1.00442422e-01]\n",
            " [ 2.64015161e-02]\n",
            " [ 2.03609316e-02]\n",
            " [ 2.64338043e-02]\n",
            " [ 1.33037020e-01]\n",
            " [ 1.84229779e-01]\n",
            " [ 9.59196247e-02]\n",
            " [ 1.23741177e-01]\n",
            " [ 9.04788203e-02]\n",
            " [ 9.58891928e-02]\n",
            " [ 1.38968513e-02]\n",
            " [ 2.21882569e+00]\n",
            " [ 1.95534229e+00]\n",
            " [ 1.30859245e+00]\n",
            " [ 7.29334149e-01]\n",
            " [ 1.37842977e+00]\n",
            " [ 2.44116127e+00]\n",
            " [ 1.57511663e-01]\n",
            " [ 1.14422409e+00]\n",
            " [ 8.04030487e-03]\n",
            " [ 2.19407342e-02]\n",
            " [ 8.36267940e-03]\n",
            " [ 7.36557998e-03]\n",
            " [ 8.36495126e-03]\n",
            " [ 2.62658654e-02]\n",
            " [ 4.26792330e-02]\n",
            " [ 1.59132652e-02]\n",
            " [ 2.44169367e-02]\n",
            " [ 1.76799867e-02]\n",
            " [ 1.59071270e-02]\n",
            " [ 1.13822422e-03]\n",
            " [ 1.24006829e+00]\n",
            " [ 1.06309299e+00]\n",
            " [ 7.06412392e-01]\n",
            " [ 2.72420586e-01]\n",
            " [ 1.02739250e+00]\n",
            " [ 1.81025860e+00]\n",
            " [ 1.57511663e-01]\n",
            " [ 7.85822918e-01]\n",
            " [ 5.36781679e-03]\n",
            " [ 8.11377712e-03]\n",
            " [ 6.30739839e-03]\n",
            " [ 6.14874865e-03]\n",
            " [ 6.30702121e-03]\n",
            " [ 6.64306535e-03]\n",
            " [ 1.28614559e-02]\n",
            " [ 2.82568695e-03]\n",
            " [ 6.35538163e-03]\n",
            " [ 6.80440233e-03]\n",
            " [ 2.82423228e-03]\n",
            " [-2.87934011e-04]\n",
            " [ 7.03146095e-01]\n",
            " [ 5.98682042e-01]\n",
            " [ 4.12508467e-01]\n",
            " [ 1.15192645e-01]\n",
            " [ 7.83400922e-01]\n",
            " [ 1.36590535e+00]\n",
            " [ 1.57511663e-01]\n",
            " [ 5.66064341e-01]\n",
            " [ 4.60602305e-03]\n",
            " [ 4.55706857e-03]\n",
            " [ 5.76309136e-03]\n",
            " [ 5.75715711e-03]\n",
            " [ 5.76232058e-03]\n",
            " [ 2.06285441e-03]\n",
            " [ 4.95443750e-03]\n",
            " [ 1.36527437e-04]\n",
            " [ 2.11300288e-03]\n",
            " [ 4.68691116e-03]\n",
            " [ 1.36099171e-04]\n",
            " [-5.36661875e-04]\n",
            " [ 4.03110620e-01]\n",
            " [ 3.47621390e-01]\n",
            " [ 2.53642811e-01]\n",
            " [ 5.57236073e-02]\n",
            " [ 6.06884019e-01]\n",
            " [ 1.04311824e+00]\n",
            " [ 1.57511663e-01]\n",
            " [ 4.22009056e-01]\n",
            " [ 4.15135852e-03]\n",
            " [ 3.22815877e-03]\n",
            " [ 5.46951400e-03]\n",
            " [ 5.47547080e-03]\n",
            " [ 5.46861778e-03]\n",
            " [ 7.16974744e-04]\n",
            " [ 2.29105456e-03]\n",
            " [-5.47086858e-04]\n",
            " [ 8.08455154e-04]\n",
            " [ 4.11817587e-03]\n",
            " [-5.47247816e-04]\n",
            " [-5.41227828e-04]\n",
            " [ 2.32585175e-01]\n",
            " [ 2.07410747e-01]\n",
            " [ 1.62100941e-01]\n",
            " [ 3.11405308e-02]\n",
            " [ 4.75822254e-01]\n",
            " [ 8.03775631e-01]\n",
            " [ 1.57511663e-01]\n",
            " [ 3.23135436e-01]\n",
            " [ 3.79342454e-03]\n",
            " [ 2.54988458e-03]\n",
            " [ 5.24863916e-03]\n",
            " [ 5.23355477e-03]\n",
            " [ 5.24767764e-03]\n",
            " [ 2.45864459e-04]\n",
            " [ 1.17120166e-03]\n",
            " [-7.59487660e-04]\n",
            " [ 2.93700500e-04]\n",
            " [ 3.90078496e-03]\n",
            " [-7.59564281e-04]\n",
            " [-4.77664777e-04]\n",
            " [ 1.34171544e-01]\n",
            " [ 1.26903305e-01]\n",
            " [ 1.07038899e-01]\n",
            " [ 2.00961529e-02]\n",
            " [ 3.76599754e-01]\n",
            " [ 6.23723781e-01]\n",
            " [ 1.57511663e-01]\n",
            " [ 2.52932498e-01]\n",
            " [ 3.48916964e-03]\n",
            " [ 2.11895844e-03]\n",
            " [ 5.06230036e-03]\n",
            " [ 5.01991275e-03]\n",
            " [ 5.06129969e-03]\n",
            " [ 7.00363299e-05]\n",
            " [ 6.14336289e-04]\n",
            " [-8.39829661e-04]\n",
            " [ 4.81002462e-05]\n",
            " [ 3.78949568e-03]\n",
            " [-8.39873964e-04]\n",
            " [-3.98713137e-04]\n",
            " [ 7.66067475e-02]\n",
            " [ 7.95664652e-02]\n",
            " [ 7.28710214e-02]\n",
            " [ 1.47388259e-02]\n",
            " [ 3.00315934e-01]\n",
            " [ 4.86814939e-01]\n",
            " [ 1.57511663e-01]\n",
            " [ 2.01747001e-01]\n",
            " [ 3.22489498e-03]\n",
            " [ 1.80556703e-03]\n",
            " [ 4.89913081e-03]\n",
            " [ 4.83066227e-03]\n",
            " [ 4.89810750e-03]\n",
            " [ 1.30446732e-05]\n",
            " [ 3.08184333e-04]\n",
            " [-8.76861438e-04]\n",
            " [-8.48049930e-05]\n",
            " [ 3.72104641e-03]\n",
            " [-8.76890851e-04]\n",
            " [-3.22742749e-04]\n",
            " [ 4.25568300e-02]\n",
            " [ 5.11579355e-02]\n",
            " [ 5.11452070e-02]\n",
            " [ 1.19546236e-02]\n",
            " [ 2.40933344e-01]\n",
            " [ 3.81839747e-01]\n",
            " [ 1.57511663e-01]\n",
            " [ 1.63606371e-01]\n",
            " [ 2.99392860e-03]\n",
            " [ 1.55908735e-03]\n",
            " [ 4.75448453e-03]\n",
            " [ 4.66326666e-03]\n",
            " [ 4.75345070e-03]\n",
            " [ 9.11675340e-06]\n",
            " [ 1.32760165e-04]\n",
            " [-8.97384601e-04]\n",
            " [-1.62913163e-04]\n",
            " [ 3.67440518e-03]\n",
            " [-8.97405932e-04]\n",
            " [-2.55758455e-04]\n",
            " [ 2.22462678e-02]\n",
            " [ 3.38018616e-02]\n",
            " [ 3.70460222e-02]\n",
            " [ 1.04170424e-02]]\n",
            "Longitud de W 201\n",
            "\n",
            "Error Final = 52.5848158323023\n"
          ]
        },
        {
          "data": {
            "image/png": "[encoded data removed]",
            "text/plain": [
              "<Figure size 640x480 with 1 Axes>"
            ]
          },
          "metadata": {},
          "output_type": "display_data"
        },
        {
          "name": "stdout",
          "output_type": "stream",
          "text": [
            "Vector de parámetros del modelo:\n",
            "\n",
            "[[ 4.09600478e+00]\n",
            " [ 3.73538149e+00]\n",
            " [ 1.70901351e+00]\n",
            " [ 8.51067386e-01]\n",
            " [ 1.92314907e+00]\n",
            " [ 2.11215035e-01]\n",
            " [ 3.32971042e-01]\n",
            " [ 1.93148878e-01]\n",
            " [ 1.41656521e-01]\n",
            " [ 1.93378835e-01]\n",
            " [ 3.68445395e-01]\n",
            " [ 4.38118184e-01]\n",
            " [ 3.07608972e-01]\n",
            " [ 3.03746323e-01]\n",
            " [ 2.64304550e-01]\n",
            " [ 3.07515906e-01]\n",
            " [ 1.70101582e-01]\n",
            " [ 2.45754034e+00]\n",
            " [ 1.80284879e+00]\n",
            " [ 1.15548333e+00]\n",
            " [ 9.65554142e-01]\n",
            " [ 3.41230258e+00]\n",
            " [ 4.38294682e-01]\n",
            " [ 8.51067386e-01]\n",
            " [ 1.05250837e+00]\n",
            " [ 2.24759272e-02]\n",
            " [ 6.74203658e-02]\n",
            " [ 2.41924531e-02]\n",
            " [ 5.65666319e-03]\n",
            " [ 2.42082483e-02]\n",
            " [ 5.81679729e-02]\n",
            " [ 7.75438545e-02]\n",
            " [ 5.04119848e-02]\n",
            " [ 3.00089578e-02]\n",
            " [ 2.46027569e-02]\n",
            " [ 5.03966546e-02]\n",
            " [ 1.73909075e-02]\n",
            " [ 1.50876757e+00]\n",
            " [ 8.45341186e-01]\n",
            " [ 3.98307043e-01]\n",
            " [ 3.00886951e-01]\n",
            " [ 3.12273829e+00]\n",
            " [-2.62923946e-01]\n",
            " [ 8.51067386e-01]\n",
            " [ 6.28046582e-01]\n",
            " [ 4.11235321e-03]\n",
            " [ 2.85759782e-02]\n",
            " [ 6.29030672e-03]\n",
            " [-1.95735999e-03]\n",
            " [ 6.29122564e-03]\n",
            " [ 1.78265622e-02]\n",
            " [ 2.39788638e-02]\n",
            " [ 2.05916833e-02]\n",
            " [-7.05625530e-04]\n",
            " [ 3.15122997e-03]\n",
            " [ 2.05869308e-02]\n",
            " [-1.05292718e-04]\n",
            " [ 9.43416547e-01]\n",
            " [ 4.22194235e-01]\n",
            " [ 1.57143850e-01]\n",
            " [ 1.15120163e-01]\n",
            " [ 2.86310271e+00]\n",
            " [-6.61864242e-01]\n",
            " [ 8.51067386e-01]\n",
            " [ 3.97006613e-01]\n",
            " [ 9.79345760e-04]\n",
            " [ 1.77999269e-02]\n",
            " [ 2.39417739e-03]\n",
            " [-1.78161193e-03]\n",
            " [ 2.39391596e-03]\n",
            " [ 8.77145593e-03]\n",
            " [ 1.12560341e-02]\n",
            " [ 1.36562283e-02]\n",
            " [-5.90759450e-03]\n",
            " [ 3.70464502e-04]\n",
            " [ 1.36530940e-02]\n",
            " [-3.96011135e-03]\n",
            " [ 5.98044896e-01]\n",
            " [ 2.24984839e-01]\n",
            " [ 6.84313735e-02]\n",
            " [ 5.08885990e-02]\n",
            " [ 2.63020374e+00]\n",
            " [-8.94471663e-01]\n",
            " [ 8.51067386e-01]\n",
            " [ 2.61628628e-01]\n",
            " [ 2.43760905e-04]\n",
            " [ 1.35887480e-02]\n",
            " [ 1.12256003e-03]\n",
            " [-1.17356679e-03]\n",
            " [ 1.12229296e-03]\n",
            " [ 5.59951752e-03]\n",
            " [ 6.93499694e-03]\n",
            " [ 1.07323924e-02]\n",
            " [-6.70316759e-03]\n",
            " [-5.83954995e-05]\n",
            " [ 1.07296122e-02]\n",
            " [-5.02026976e-03]\n",
            " [ 3.83271332e-01]\n",
            " [ 1.28327275e-01]\n",
            " [ 3.20873634e-02]\n",
            " [ 2.49507049e-02]\n",
            " [ 2.42119879e+00]\n",
            " [-1.03269237e+00]\n",
            " [ 8.51067386e-01]\n",
            " [ 1.77978238e-01]\n",
            " [ 4.20672463e-05]\n",
            " [ 1.16541476e-02]\n",
            " [ 5.97525159e-04]\n",
            " [-7.41869454e-04]\n",
            " [ 5.97347377e-04]\n",
            " [ 4.09349324e-03]\n",
            " [ 5.09393656e-03]\n",
            " [ 8.97085285e-03]\n",
            " [-6.43919578e-03]\n",
            " [-9.88983423e-05]\n",
            " [ 8.96818569e-03]\n",
            " [-5.25920250e-03]\n",
            " [ 2.47909447e-01]\n",
            " [ 7.85812484e-02]\n",
            " [ 1.58958917e-02]\n",
            " [ 1.32210684e-02]\n",
            " [ 2.23355560e+00]\n",
            " [-1.11600408e+00]\n",
            " [ 8.51067386e-01]\n",
            " [ 1.24169521e-01]\n",
            " [-1.49468555e-05]\n",
            " [ 1.06821251e-02]\n",
            " [ 3.43712300e-04]\n",
            " [-4.71384098e-04]\n",
            " [ 3.43602484e-04]\n",
            " [ 3.20677970e-03]\n",
            " [ 4.16159249e-03]\n",
            " [ 7.69742602e-03]\n",
            " [-5.92330959e-03]\n",
            " [-7.55159235e-05]\n",
            " [ 7.69481738e-03]\n",
            " [-5.20608993e-03]\n",
            " [ 1.61672434e-01]\n",
            " [ 5.16980469e-02]\n",
            " [ 8.19956329e-03]\n",
            " [ 7.43880411e-03]\n",
            " [ 2.06501748e+00]\n",
            " [-1.16675084e+00]\n",
            " [ 8.51067386e-01]\n",
            " [ 8.84433311e-02]\n",
            " [-2.81370022e-05]\n",
            " [ 1.01643467e-02]\n",
            " [ 2.06909694e-04]\n",
            " [-3.04047913e-04]\n",
            " [ 2.06842556e-04]\n",
            " [ 2.60082230e-03]\n",
            " [ 3.60459807e-03]\n",
            " [ 6.68988017e-03]\n",
            " [-5.39735945e-03]\n",
            " [-4.96568062e-05]\n",
            " [ 6.68732326e-03]\n",
            " [-5.04134406e-03]\n",
            " [ 1.06226797e-01]\n",
            " [ 3.64237216e-02]\n",
            " [ 4.35692854e-03]\n",
            " [ 4.38513102e-03]\n",
            " [ 1.91357261e+00]\n",
            " [-1.19790163e+00]\n",
            " [ 8.51067386e-01]\n",
            " [ 6.41056461e-02]\n",
            " [-2.75539920e-05]\n",
            " [ 9.87698220e-03]\n",
            " [ 1.27751481e-04]\n",
            " [-1.99177290e-04]\n",
            " [ 1.27710030e-04]\n",
            " [ 2.14594656e-03]\n",
            " [ 3.21543137e-03]\n",
            " [ 5.85492389e-03]\n",
            " [-4.93423153e-03]\n",
            " [-3.10568873e-05]\n",
            " [ 5.85242638e-03]\n",
            " [-4.83720902e-03]\n",
            " [ 7.02880846e-02]\n",
            " [ 2.72808761e-02]\n",
            " [ 2.36647418e-03]\n",
            " [ 2.67876925e-03]\n",
            " [ 1.77742675e+00]\n",
            " [-1.21713293e+00]\n",
            " [ 8.51067386e-01]\n",
            " [ 4.71680562e-02]\n",
            " [-2.30452708e-05]\n",
            " [ 9.71282219e-03]\n",
            " [ 7.99265552e-05]\n",
            " [-1.32235806e-04]\n",
            " [ 7.99005660e-05]\n",
            " [ 1.78545242e-03]\n",
            " [ 2.90723576e-03]\n",
            " [ 5.14533697e-03]\n",
            " [-4.54891605e-03]\n",
            " [-1.90872576e-05]\n",
            " [ 5.14291033e-03]\n",
            " [-4.62533293e-03]\n",
            " [ 4.68201629e-02]\n",
            " [ 2.15049870e-02]\n",
            " [ 1.30673603e-03]\n",
            " [ 1.67988254e-03]]\n",
            "Longitud de W 201\n",
            "\n",
            "Error Final = 21.48388652339813\n"
          ]
        },
        {
          "data": {
            "image/png": "[encoded data removed]",
            "text/plain": [
              "<Figure size 640x480 with 1 Axes>"
            ]
          },
          "metadata": {},
          "output_type": "display_data"
        }
      ],
      "source": [
        "#Escriba su código aquí\n",
        "\n",
        "w_train = gradiente_descendente(X_train, Y_train, 10, 0.001, 1000)\n",
        "w_test = gradiente_descendente(X_test, Y_test, 10, 0.001, 1000)"
      ]
    },
    {
      "cell_type": "markdown",
      "metadata": {
        "id": "7u6ph3zDuXb9"
      },
      "source": [
        "5.1 Qué diferencia nota en cuánto a los resultados en entrenamiento y en validación?\n",
        "\n",
        "**R/:**\n",
        "\n",
        "Se evidencia que el ECM en el conjunto de entrenamiento (52.58481583230228) es mayor que en el conjunto de validación (21.483886523398134).\n",
        "\n",
        "Una de las caracteristicas que más sobresalen cuando se compara el compartamiento del error en relación con el número de iteraciones, es que en el caso de el conjunto de validación, el error cae de forma más acelerada, en comparación con el conjunto de entrenamiento.\n",
        "\n",
        "5.2 Por qué cree que ocurre lo anterior?\n",
        "\n",
        "R/: Una posible explicación de la diferencia de los valores de ECM en entrenamiento y validación puede estar relacionada con la cantidad de datos que tiene cada conjunto con que se corrió el modelo.\n",
        "Se podría pensar, que desde la separación de los datos, se podría pensar, de que se debe encontrar una metodología adecuada para realizar dicha separación."
      ]
    },
    {
      "cell_type": "markdown",
      "metadata": {
        "id": "zLUSS9jcuXb9"
      },
      "source": [
        "### Nota\n",
        "\n",
        "Tenga en cuenta que los resultados de este modelo se pueden mejorar incrementando las iteraciones, pero realizaron 1000 para evitar altos costos computacionales."
      ]
    },
    {
      "cell_type": "markdown",
      "metadata": {
        "id": "4xE-SQnSuXb9"
      },
      "source": [
        "---------------------------\n",
        "# Interpretación\n",
        "\n",
        "Los modelos de regresión polinomial múltiple son una extensión de la regresión lineal simple. En lugar de ajustar una línea recta a los datos, estos modelos permiten ajustar polinomios de grado superior. Esto puede ser útil cuando la relación entre las variables de entrada y de salida es no lineal.\n",
        "\n",
        "El método del gradiente descendente es un algoritmo de optimización que se utiliza para minimizar una función objetivo iterativamente. En el contexto de la regresión, esta función objetivo es generalmente el error cuadrático medio. El gradiente descendente actualiza los parámetros del modelo (los coeficientes de la regresión) en cada iteración para moverse en la dirección del gradiente negativo de la función objetivo.\n",
        "\n",
        "La regla de actualización de los parámetros es crucial en el gradiente descendente. En cada paso, los parámetros se actualizan de la siguiente manera:\n",
        "\n",
        "```Python\n",
        "parametro = parametro - tasa_de_aprendizaje * gradiente\n",
        "```\n",
        "Donde `tasa_de_aprendizaje` es un hiperparámetro que controla cuánto cambian los parámetros en cada actualización, y `gradiente` es el gradiente de la función objetivo con respecto al parámetro.\n",
        "\n",
        "Aquí hay un ejemplo de cómo se podría implementar el gradiente descendente para la regresión polinomial múltiple en Python:\n",
        "\n",
        "```python\n",
        "import numpy as np\n",
        "\n",
        "def gradiente_descendente(X, y, parametros, tasa_de_aprendizaje, num_iteraciones):\n",
        "    m = len(y)\n",
        "    historia_costo = []\n",
        "\n",
        "    for i in range(num_iteraciones):\n",
        "        prediccion = np.dot(X, parametros)\n",
        "        error = prediccion - y\n",
        "        gradiente = (1/m) * np.dot(X.T, error)\n",
        "        parametros = parametros - tasa_de_aprendizaje * gradiente\n",
        "        costo = (1/(2*m)) * np.dot(error.T, error)\n",
        "        historia_costo.append(costo)\n",
        "\n",
        "    return parametros, historia_costo\n",
        "```\n",
        "\n",
        "En este código, `X` es la matriz de características, y es el vector de salida, `parametros` son los parámetros del modelo, `tasa_de_aprendizaje` es la tasa de aprendizaje y `num_iteraciones` es el número de iteraciones para el algoritmo.\n"
      ]
    },
    {
      "cell_type": "markdown",
      "metadata": {
        "id": "NccpPZQjuXb9"
      },
      "source": [
        "--------------\n",
        "## Costos Computacionales\n",
        " Refiere a la cantidad de iteraciones realizadas en un algoritmo de aprendizaje automático, probablemente un algoritmo de optimización como el gradiente descendente.\n",
        "\n",
        "Las iteraciones se refieren a cuántas veces el algoritmo pasa por el conjunto de datos de entrenamiento. Cada iteración, el algoritmo ajusta los parámetros del modelo (como los coeficientes en una regresión) para minimizar la función de pérdida.\n",
        "\n",
        "Aumentar el número de iteraciones puede mejorar la precisión del modelo, ya que le da al algoritmo más oportunidades para aprender y ajustar los parámetros. Sin embargo, también aumenta el costo computacional, ya que cada iteración requiere tiempo y recursos de procesamiento."
      ]
    }
  ],
  "metadata": {
    "kernelspec": {
      "display_name": "Python 3",
      "language": "python",
      "name": "python3"
    },
    "language_info": {
      "codemirror_mode": {
        "name": "ipython",
        "version": 3
      },
      "file_extension": ".py",
      "mimetype": "text/x-python",
      "name": "python",
      "nbconvert_exporter": "python",
      "pygments_lexer": "ipython3",
      "version": "3.11.7"
    },
    "colab": {
      "provenance": [],
      "include_colab_link": true
    }
  },
  "nbformat": 4,
  "nbformat_minor": 0
}